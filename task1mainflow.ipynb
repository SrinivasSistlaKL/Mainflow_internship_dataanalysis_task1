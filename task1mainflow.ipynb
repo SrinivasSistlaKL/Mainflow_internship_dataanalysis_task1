{
  "nbformat": 4,
  "nbformat_minor": 0,
  "metadata": {
    "colab": {
      "provenance": [],
      "authorship_tag": "ABX9TyNwkpTf17heLLN6vpRtpepf",
      "include_colab_link": true
    },
    "kernelspec": {
      "name": "python3",
      "display_name": "Python 3"
    },
    "language_info": {
      "name": "python"
    }
  },
  "cells": [
    {
      "cell_type": "markdown",
      "metadata": {
        "id": "view-in-github",
        "colab_type": "text"
      },
      "source": [
        "<a href=\"https://colab.research.google.com/github/SrinivasSistlaKL/Mainflow_internship_dataanalysis_task1/blob/main/task1mainflow.ipynb\" target=\"_parent\"><img src=\"https://colab.research.google.com/assets/colab-badge.svg\" alt=\"Open In Colab\"/></a>"
      ]
    },
    {
      "cell_type": "code",
      "execution_count": 1,
      "metadata": {
        "colab": {
          "base_uri": "https://localhost:8080/"
        },
        "id": "biUKMMbdqcVg",
        "outputId": "855af1d8-2cbe-4951-87a0-693ffdd4e894"
      },
      "outputs": [
        {
          "output_type": "stream",
          "name": "stdout",
          "text": [
            "Original List: [1, 2, 3, 4, 5]\n",
            "List after adding 6: [1, 2, 3, 4, 5, 6]\n",
            "List after removing 3: [1, 2, 4, 5, 6]\n",
            "List after modifying index 2 to 10: [1, 2, 10, 5, 6]\n",
            "\n",
            "Original Dictionary: {'a': 1, 'b': 2, 'c': 3}\n",
            "Dictionary after adding key 'd' with value 4: {'a': 1, 'b': 2, 'c': 3, 'd': 4}\n",
            "Dictionary after removing key 'b': {'a': 1, 'c': 3, 'd': 4}\n",
            "Dictionary after modifying key 'c' to 10: {'a': 1, 'c': 10, 'd': 4}\n",
            "\n",
            "Original Set: {1, 2, 3, 4, 5}\n",
            "Set after adding 6: {1, 2, 3, 4, 5, 6}\n",
            "Set after removing 3: {1, 2, 4, 5, 6}\n"
          ]
        }
      ],
      "source": [
        "# List Operations\n",
        "my_list = [1, 2, 3, 4, 5]\n",
        "print(\"Original List:\", my_list)\n",
        "\n",
        "# Adding elements to the list\n",
        "my_list.append(6)\n",
        "print(\"List after adding 6:\", my_list)\n",
        "\n",
        "# Removing elements from the list\n",
        "my_list.remove(3)\n",
        "print(\"List after removing 3:\", my_list)\n",
        "\n",
        "# Modifying elements in the list\n",
        "my_list[2] = 10\n",
        "print(\"List after modifying index 2 to 10:\", my_list)\n",
        "\n",
        "# Dictionary Operations\n",
        "my_dict = {'a': 1, 'b': 2, 'c': 3}\n",
        "print(\"\\nOriginal Dictionary:\", my_dict)\n",
        "\n",
        "# Adding elements to the dictionary\n",
        "my_dict['d'] = 4\n",
        "print(\"Dictionary after adding key 'd' with value 4:\", my_dict)\n",
        "\n",
        "# Removing elements from the dictionary\n",
        "del my_dict['b']\n",
        "print(\"Dictionary after removing key 'b':\", my_dict)\n",
        "\n",
        "# Modifying elements in the dictionary\n",
        "my_dict['c'] = 10\n",
        "print(\"Dictionary after modifying key 'c' to 10:\", my_dict)\n",
        "\n",
        "# Set Operations\n",
        "my_set = {1, 2, 3, 4, 5}\n",
        "print(\"\\nOriginal Set:\", my_set)\n",
        "\n",
        "# Adding elements to the set\n",
        "my_set.add(6)\n",
        "print(\"Set after adding 6:\", my_set)\n",
        "\n",
        "# Removing elements from the set\n",
        "my_set.remove(3)\n",
        "print(\"Set after removing 3:\", my_set)\n",
        "\n",
        "# Note: Modifying elements in a set is not applicable as sets are unordered\n"
      ]
    }
  ]
}