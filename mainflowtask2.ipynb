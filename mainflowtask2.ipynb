{
  "nbformat": 4,
  "nbformat_minor": 0,
  "metadata": {
    "colab": {
      "provenance": [],
      "authorship_tag": "ABX9TyNz6cwvvmEE990asfR8ptXz",
      "include_colab_link": true
    },
    "kernelspec": {
      "name": "python3",
      "display_name": "Python 3"
    },
    "language_info": {
      "name": "python"
    }
  },
  "cells": [
    {
      "cell_type": "markdown",
      "metadata": {
        "id": "view-in-github",
        "colab_type": "text"
      },
      "source": [
        "<a href=\"https://colab.research.google.com/github/SrinivasSistlaKL/Mainflow_internship_dataanalysis_task1/blob/main/mainflowtask2.ipynb\" target=\"_parent\"><img src=\"https://colab.research.google.com/assets/colab-badge.svg\" alt=\"Open In Colab\"/></a>"
      ]
    },
    {
      "cell_type": "code",
      "execution_count": 2,
      "metadata": {
        "colab": {
          "base_uri": "https://localhost:8080/"
        },
        "id": "4ixy_K0UXNgS",
        "outputId": "3494fad9-46c8-409b-9115-5d9dab7de526"
      },
      "outputs": [
        {
          "output_type": "stream",
          "name": "stdout",
          "text": [
            "Original DataFrame:\n",
            "      name   age         city    salary\n",
            "0    Alice  25.0     New York   70000.0\n",
            "1      Bob  35.0  Los Angeles   80000.0\n",
            "2  Charlie   NaN      Chicago  120000.0\n",
            "3    David  45.0          NaN   90000.0\n",
            "4      Eva  30.0      Houston       NaN\n",
            "\n",
            "Filtered DataFrame (age > 30):\n",
            "    name   age         city   salary\n",
            "1    Bob  35.0  Los Angeles  80000.0\n",
            "3  David  45.0          NaN  90000.0\n",
            "\n",
            "DataFrame after dropping rows with missing values:\n",
            "    name   age         city   salary\n",
            "0  Alice  25.0     New York  70000.0\n",
            "1    Bob  35.0  Los Angeles  80000.0\n",
            "\n",
            "DataFrame after filling missing values with 0:\n",
            "      name   age         city    salary\n",
            "0    Alice  25.0     New York   70000.0\n",
            "1      Bob  35.0  Los Angeles   80000.0\n",
            "2  Charlie   0.0      Chicago  120000.0\n",
            "3    David  45.0            0   90000.0\n",
            "4      Eva  30.0      Houston       0.0\n",
            "\n",
            "DataFrame after filling missing values in 'age' column with the column mean:\n",
            "      name    age         city    salary\n",
            "0    Alice  25.00     New York   70000.0\n",
            "1      Bob  35.00  Los Angeles   80000.0\n",
            "2  Charlie  33.75      Chicago  120000.0\n",
            "3    David  45.00          NaN   90000.0\n",
            "4      Eva  30.00      Houston       NaN\n",
            "\n",
            "Summary Statistics:\n",
            "           age         salary\n",
            "count   5.0000       4.000000\n",
            "mean   33.7500   90000.000000\n",
            "std     7.3951   21602.468995\n",
            "min    25.0000   70000.000000\n",
            "25%    30.0000   77500.000000\n",
            "50%    33.7500   85000.000000\n",
            "75%    35.0000   97500.000000\n",
            "max    45.0000  120000.000000\n",
            "\n",
            "Mean of 'age' column:\n",
            "33.75\n",
            "\n",
            "Median of 'age' column:\n",
            "33.75\n",
            "\n",
            "Sum of 'age' column:\n",
            "168.75\n"
          ]
        }
      ],
      "source": [
        "import pandas as pd\n",
        "\n",
        "# Load CSV file into a DataFrame\n",
        "df = pd.read_csv('sample_data.csv')\n",
        "\n",
        "# Display the first few rows of the DataFrame\n",
        "print(\"Original DataFrame:\")\n",
        "print(df.head())\n",
        "\n",
        "# Filter rows where the column 'age' is greater than 30\n",
        "filtered_df = df[df['age'] > 30]\n",
        "print(\"\\nFiltered DataFrame (age > 30):\")\n",
        "print(filtered_df.head())\n",
        "\n",
        "# Handling missing values\n",
        "\n",
        "# Drop rows with any missing values\n",
        "df_dropped = df.dropna()\n",
        "print(\"\\nDataFrame after dropping rows with missing values:\")\n",
        "print(df_dropped.head())\n",
        "\n",
        "# Fill missing values with 0\n",
        "df_filled = df.fillna(value=0)\n",
        "print(\"\\nDataFrame after filling missing values with 0:\")\n",
        "print(df_filled.head())\n",
        "\n",
        "# Fill missing values in a specific column with the column mean\n",
        "df['age'].fillna(df['age'].mean(), inplace=True)\n",
        "print(\"\\nDataFrame after filling missing values in 'age' column with the column mean:\")\n",
        "print(df.head())\n",
        "\n",
        "# Calculate summary statistics\n",
        "summary_stats = df.describe()\n",
        "print(\"\\nSummary Statistics:\")\n",
        "print(summary_stats)\n",
        "\n",
        "# Calculate the mean of the 'age' column\n",
        "column_mean = df['age'].mean()\n",
        "print(\"\\nMean of 'age' column:\")\n",
        "print(column_mean)\n",
        "\n",
        "# Calculate the median of the 'age' column\n",
        "column_median = df['age'].median()\n",
        "print(\"\\nMedian of 'age' column:\")\n",
        "print(column_median)\n",
        "\n",
        "# Calculate the sum of the 'age' column\n",
        "column_sum = df['age'].sum()\n",
        "print(\"\\nSum of 'age' column:\")\n",
        "print(column_sum)\n"
      ]
    }
  ]
}